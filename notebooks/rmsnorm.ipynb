{
 "cells": [
  {
   "cell_type": "code",
   "execution_count": 14,
   "metadata": {},
   "outputs": [],
   "source": [
    "%matplotlib inline"
   ]
  },
  {
   "cell_type": "markdown",
   "metadata": {},
   "source": [
    "# Testing and Benchmarking Triton"
   ]
  },
  {
   "cell_type": "markdown",
   "metadata": {},
   "source": [
    "**IMPORTANT**: since triton compiler is involved, we must restart the kernel after each modification of the optimized.rmsnorm module"
   ]
  },
  {
   "cell_type": "code",
   "execution_count": 15,
   "metadata": {},
   "outputs": [],
   "source": [
    "import sys\n",
    "sys.path.append('..')\n",
    "import torch\n",
    "from baselines.rmsnorm import RMSNormL3, RMSNormGT1, MyRMSNorm\n",
    "# Note, since triton compiler is involved, we must restart the kernel after each modification of the \n",
    "# optimized.rmsnorm module\n",
    "from optimized.rmsnorm import RMSNormTriton\n",
    "from matplotlib import pyplot as plt"
   ]
  },
  {
   "cell_type": "markdown",
   "metadata": {},
   "source": [
    "## Results for Ground Truth"
   ]
  },
  {
   "cell_type": "code",
   "execution_count": 16,
   "metadata": {},
   "outputs": [
    {
     "name": "stdout",
     "output_type": "stream",
     "text": [
      "--------------------\n",
      "RMSNormTriton: x.shape: torch.Size([4, 3])\n",
      "tensor([[  1.,   2.,   3.],\n",
      "        [  3.,   3.,   3.],\n",
      "        [  7.,   8.,   9.],\n",
      "        [100., 150., 150.]])\n",
      "tensor([[0.4629, 0.9258, 1.3887],\n",
      "        [1.0000, 1.0000, 1.0000],\n",
      "        [0.8705, 0.9948, 1.1192],\n",
      "        [0.7385, 1.1078, 1.1078]], grad_fn=<MulBackward0>)\n",
      "--------------------\n",
      "RMSNormTriton: x.shape: torch.Size([1, 3])\n",
      "tensor([[1., 2., 3.]], dtype=torch.float16)\n",
      "tensor([[0.4629, 0.9258, 1.3887]], grad_fn=<MulBackward0>)\n",
      "--------------------\n",
      "RMSNormTriton: x.shape: torch.Size([3])\n",
      "tensor([1., 2., 3.], dtype=torch.float16)\n",
      "tensor([0.4629, 0.9258, 1.3887], grad_fn=<MulBackward0>)\n",
      "--------------------\n",
      "RMSNormTriton: x.shape: torch.Size([2, 2, 3])\n",
      "tensor([[[  1.,   2.,   3.],\n",
      "         [  7.,   8.,   9.]],\n",
      "\n",
      "        [[100., 150., 150.],\n",
      "         [100., 150., 150.]]], dtype=torch.float16)\n",
      "tensor([[[0.4629, 0.9258, 1.3887],\n",
      "         [0.8706, 0.9946, 1.1191]],\n",
      "\n",
      "        [[0.7388, 1.1074, 1.1074],\n",
      "         [0.7388, 1.1074, 1.1074]]], grad_fn=<MulBackward0>)\n"
     ]
    }
   ],
   "source": [
    "def printRMSNorm(rmsnorm_class, x : torch.Tensor = None):\n",
    "    print(\"--------------------\")\n",
    "    print(\"RMSNormTriton: x.shape: \", end=\"\")\n",
    "    print(x.shape)\n",
    "    \n",
    "    # Compute the expected output\n",
    "    rmsnorm_test = rmsnorm_class(dim=3)\n",
    "    expected_output = rmsnorm_test.forward(x)\n",
    "    print(x)\n",
    "    print(expected_output)\n",
    "\n",
    "printRMSNorm(RMSNormGT1, torch.tensor([[1, 2, 3], [3, 3, 3], [7, 8, 9], [100, 150, 150]], dtype=torch.float32))\n",
    "printRMSNorm(RMSNormGT1, torch.tensor([[1, 2, 3], ], dtype=torch.float16))\n",
    "printRMSNorm(RMSNormGT1, torch.tensor([1, 2, 3], dtype=torch.float16))\n",
    "printRMSNorm(RMSNormGT1, torch.tensor([[[1, 2, 3], [7, 8, 9]], [[100, 150, 150], [100, 150, 150]]], dtype=torch.float16))"
   ]
  },
  {
   "cell_type": "markdown",
   "metadata": {},
   "source": [
    "Results for Triton"
   ]
  },
  {
   "cell_type": "code",
   "execution_count": 17,
   "metadata": {},
   "outputs": [
    {
     "name": "stdout",
     "output_type": "stream",
     "text": [
      "--------------------\n",
      "RMSNormTriton: x.shape: torch.Size([1, 3])\n",
      "tensor([[1., 2., 3.]], dtype=torch.float16)\n",
      "tensor([[0.4629, 0.9258, 1.3887]], device='cuda:0', grad_fn=<MulBackward0>)\n",
      "--------------------\n",
      "RMSNormTriton: x.shape: torch.Size([4, 3])\n",
      "tensor([[  1.,   2.,   3.],\n",
      "        [  3.,   3.,   3.],\n",
      "        [  7.,   8.,   9.],\n",
      "        [100., 150., 150.]])\n",
      "tensor([[0.4629, 0.9258, 1.3887],\n",
      "        [1.0000, 1.0000, 1.0000],\n",
      "        [0.8705, 0.9948, 1.1192],\n",
      "        [0.7385, 1.1078, 1.1078]], device='cuda:0', grad_fn=<MulBackward0>)\n",
      "--------------------\n",
      "RMSNormTriton: x.shape: torch.Size([2, 2, 3])\n",
      "tensor([[[  1.,   2.,   3.],\n",
      "         [  7.,   8.,   9.]],\n",
      "\n",
      "        [[100., 150., 150.],\n",
      "         [100., 150., 150.]]], dtype=torch.float16)\n",
      "tensor([[[0.4629, 0.9258, 1.3887],\n",
      "         [0.8706, 0.9946, 1.1191]],\n",
      "\n",
      "        [[0.7388, 1.1074, 1.1074],\n",
      "         [0.7388, 1.1074, 1.1074]]], device='cuda:0', grad_fn=<MulBackward0>)\n"
     ]
    }
   ],
   "source": [
    "def printRMSNorm(rmsnorm_class, x : torch.Tensor = None):\n",
    "    print(\"--------------------\")\n",
    "    print(\"RMSNormTriton: x.shape: \", end=\"\")\n",
    "    print(x.shape)\n",
    "    # Compute the expected output\n",
    "    rmsnorm_test = rmsnorm_class(dim=3).cuda()\n",
    "    expected_output = rmsnorm_test.forward(x.cuda())\n",
    "    print(x)\n",
    "    print(expected_output)\n",
    "\n",
    "# One sequence\n",
    "printRMSNorm(RMSNormTriton, torch.tensor([[1, 2, 3], ], dtype=torch.float16))\n",
    "\n",
    "# Multiple sequences\n",
    "printRMSNorm(RMSNormTriton, torch.tensor([[1, 2, 3], [3, 3, 3], [7, 8, 9], [100, 150, 150]], dtype=torch.float32))\n",
    "\n",
    "# Multiple batches, with multiple sequences\n",
    "printRMSNorm(RMSNormTriton, torch.tensor([[[1, 2, 3], [7, 8, 9]], [[100, 150, 150], [100, 150, 150]]], dtype=torch.float16))"
   ]
  },
  {
   "cell_type": "code",
   "execution_count": 18,
   "metadata": {},
   "outputs": [
    {
     "name": "stdout",
     "output_type": "stream",
     "text": [
      "RMSNormTriton: x.shape: "
     ]
    }
   ],
   "source": [
    "print(\"RMSNormTriton: x.shape: \", end=\"\")"
   ]
  },
  {
   "cell_type": "markdown",
   "metadata": {},
   "source": [
    "# Actual Performance Measurment"
   ]
  },
  {
   "cell_type": "markdown",
   "metadata": {},
   "source": [
    "## Verify that outputs match"
   ]
  },
  {
   "cell_type": "code",
   "execution_count": 19,
   "metadata": {},
   "outputs": [
    {
     "name": "stdout",
     "output_type": "stream",
     "text": [
      "✅ Triton and Torch match\n"
     ]
    }
   ],
   "source": [
    "import triton\n",
    "\n",
    "# Make sure the numbers are the same (or close)\n",
    "torch.manual_seed(0)\n",
    "seq_len = 100\n",
    "model_dim = 4096\n",
    "x = torch.randn(seq_len, model_dim, device='cuda')\n",
    "\n",
    "# Triton implementation\n",
    "rmsnormtriton = RMSNormTriton(dim=model_dim).cuda()\n",
    "triton_output = rmsnormtriton.forward(x)\n",
    "\n",
    "# Ground Truth PyTorch implementation\n",
    "rmsnormgt1 = RMSNormGT1(dim=model_dim).cuda()\n",
    "torch_output = rmsnormgt1.forward(x)\n",
    "if torch.allclose(triton_output, torch_output):\n",
    "# assert torch.allclose(y_triton, y_torch), (y_triton, y_torch)\n",
    "    print(\"✅ Triton and Torch match\")\n",
    "else:\n",
    "    print(\"❌ Triton and Torch differ\")"
   ]
  },
  {
   "cell_type": "markdown",
   "metadata": {},
   "source": [
    "## Measure Runtime"
   ]
  },
  {
   "cell_type": "code",
   "execution_count": 20,
   "metadata": {},
   "outputs": [],
   "source": [
    "# Values of sequence leng to Sweep\n",
    "x_vals = [1, 128, 256] + [512 * i for i in range(1, 25)]\n",
    "\n",
    "# Value of model_dim\n",
    "model_dim = model_dim # from cell above since we pre-allocate the \"model\""
   ]
  },
  {
   "cell_type": "code",
   "execution_count": 21,
   "metadata": {},
   "outputs": [
    {
     "name": "stdout",
     "output_type": "stream",
     "text": [
      "runtime:\n",
      "     SeqLen    Triton  Torch (native)  Torch (compiled)\n",
      "0       1.0  0.188832        0.030688          0.451280\n",
      "1     128.0  0.195872        0.048608          0.489824\n",
      "2     256.0  0.196416        0.076736          0.489728\n",
      "3     512.0  0.194512        0.137968          0.487952\n",
      "4    1024.0  0.238944        0.238848          0.486304\n",
      "5    1536.0  0.341024        0.340704          0.486768\n",
      "6    2048.0  0.444160        0.443520          0.488096\n",
      "7    2560.0  0.547168        0.546464          0.487776\n",
      "8    3072.0  0.649920        0.648960          0.489824\n",
      "9    3584.0  0.751600        0.751232          0.508160\n",
      "10   4096.0  0.854816        0.854048          0.494048\n",
      "11   4608.0  0.957952        0.957456          0.509760\n",
      "12   5120.0  1.060256        1.059472          0.507968\n",
      "13   5632.0  1.174720        1.174288          0.506656\n",
      "14   6144.0  1.273120        1.272384          0.507840\n",
      "15   6656.0  1.371760        1.371328          0.505696\n",
      "16   7168.0  1.471952        1.471984          0.505744\n",
      "17   7680.0  1.574592        1.573632          0.507168\n",
      "18   8192.0  1.677104        1.675872          0.507328\n",
      "19   8704.0  1.779872        1.779136          0.505360\n",
      "20   9216.0  1.881824        1.880752          0.506912\n",
      "21   9728.0  1.984000        1.982912          0.507472\n",
      "22  10240.0  2.087152        2.085984          0.507376\n",
      "23  10752.0  2.198400        2.196560          0.508576\n",
      "24  11264.0  2.298144        2.296768          0.509616\n",
      "25  11776.0  2.396512        2.395488          0.508224\n",
      "26  12288.0  2.498816        2.497024          0.508512\n"
     ]
    },
    {
     "data": {
      "image/png": "[encoded data removed]",
      "text/plain": [
       "<Figure size 640x480 with 1 Axes>"
      ]
     },
     "metadata": {},
     "output_type": "display_data"
    }
   ],
   "source": [
    "plot_name = 'runtime'\n",
    "\n",
    "@triton.testing.perf_report(\n",
    "    triton.testing.Benchmark(\n",
    "        x_names=['SeqLen'],  # argument names to use as an x-axis for the plot\n",
    "        # I want to benchmark sequence lengths from 1 to 12,800 \n",
    "        # llama2 context size is 8k tokens, but longer context len extensions are possible\n",
    "        # also I observed that it is the only way to saturate GPU memory BW of V100\n",
    "        # I want to include 1,128,and 256 to see the effect of small sequence lengths\n",
    "        x_vals = x_vals,\n",
    "\n",
    "        line_arg='provider',  # argument name whose value corresponds to a different line in the plot\n",
    "        line_vals=[\n",
    "            'triton',\n",
    "            'torch-native',\n",
    "            'torch-compile'\n",
    "        ],  # possible values for `line_arg``\n",
    "        line_names=[\n",
    "            \"Triton\",\n",
    "            \"Torch (native)\",\n",
    "            \"Torch (compiled)\"\n",
    "        ],  # label name for the lines\n",
    "\n",
    "        styles=[('blue', '-'), ('green', '-.'), ('green', '--')],  # line styles\n",
    "        # ylabel=\"GB/s\",  # label name for the y-axis\n",
    "        ylabel=\"ms\",  # label name for the y-axis\n",
    "        plot_name=plot_name,  # name for the plot. Used also as a file name for saving the plot.\n",
    "        args={'N': 4096},  # values for function arguments not in `x_names` and `y_name`\n",
    "    ))\n",
    "\n",
    "def benchmark(SeqLen, N, provider):\n",
    "    x = torch.randn(SeqLen, N, device='cuda', dtype=torch.float16)\n",
    "    quantiles = [0.5, 0.2, 0.8] # report median, 20th and 80th percentiles\n",
    "    if provider == 'triton':\n",
    "        ms, min_ms, max_ms = triton.testing.do_bench(lambda: rmsnormtriton(x), quantiles=quantiles)\n",
    "    if provider == 'torch-native':\n",
    "        ms, min_ms, max_ms = triton.testing.do_bench(lambda: rmsnormgt1(x), quantiles=quantiles)\n",
    "    if provider == 'torch-compile':\n",
    "        ms, min_ms, max_ms = triton.testing.do_bench(lambda: torch.compile(rmsnormgt1)(x), quantiles=quantiles)\n",
    "\n",
    "    # For GB/s reports\n",
    "    # gbps = lambda ms: 2 * x.nelement() * x.element_size() * 1e-9 / (ms * 1e-3)\n",
    "    # return gbps(ms), gbps(max_ms), gbps(min_ms)\n",
    "\n",
    "    # For ms reports\n",
    "    return ms, max_ms, min_ms\n",
    "\n",
    "\n",
    "benchmark.run(show_plots=False, print_data=True, save_path='./prof/')\n",
    "plt.show()"
   ]
  },
  {
   "cell_type": "markdown",
   "metadata": {},
   "source": [
    "## Memory Bandwidth"
   ]
  },
  {
   "cell_type": "code",
   "execution_count": 22,
   "metadata": {},
   "outputs": [],
   "source": [
    "plot_name = 'bandwidth'\n",
    "\n",
    "@triton.testing.perf_report(\n",
    "    triton.testing.Benchmark(\n",
    "        x_names=['SeqLen'],  # argument names to use as an x-axis for the plot\n",
    "        # I want to benchmark sequence lengths from 1 to 12,800 \n",
    "        # llama2 context size is 8k tokens, but longer context len extensions are possible\n",
    "        # also I observed that it is the only way to saturate GPU memory BW of V100\n",
    "        # I want to include 1,128,and 256 to see the effect of small sequence lengths\n",
    "        x_vals = x_vals,\n",
    "\n",
    "        line_arg='provider',  # argument name whose value corresponds to a different line in the plot\n",
    "        line_vals=[\n",
    "            'triton',\n",
    "            'torch-native',\n",
    "            'torch-compile'\n",
    "        ],  # possible values for `line_arg``\n",
    "        line_names=[\n",
    "            \"Triton\",\n",
    "            \"Torch (native)\",\n",
    "            \"Torch (compiled)\"\n",
    "        ],  # label name for the lines\n",
    "\n",
    "        styles=[('blue', '-'), ('green', '-.'), ('green', '--')],  # line styles\n",
    "        ylabel=\"GB/s\",  # label name for the y-axis\n",
    "        plot_name=\"bandwidth\",  # name for the plot. Used also as a file name for saving the plot.\n",
    "        # ylabel=\"ms\",  # label name for the y-axis\n",
    "        # plot_name=\"runtime\",  # name for the plot. Used also as a file name for saving the plot.\n",
    "        args={'N': 4096},  # values for function arguments not in `x_names` and `y_name`\n",
    "    ))\n",
    "\n",
    "def benchmark(SeqLen, N, provider):\n",
    "    x = torch.randn(SeqLen, N, device='cuda', dtype=torch.float16)\n",
    "    quantiles = [0.5, 0.2, 0.8] # report median, 20th and 80th percentiles\n",
    "    if provider == 'triton':\n",
    "        ms, min_ms, max_ms = triton.testing.do_bench(lambda: rmsnormtriton(x), quantiles=quantiles)\n",
    "    if provider == 'torch-native':\n",
    "        ms, min_ms, max_ms = triton.testing.do_bench(lambda: rmsnormgt1(x), quantiles=quantiles)\n",
    "    if provider == 'torch-compile':\n",
    "        ms, min_ms, max_ms = triton.testing.do_bench(lambda: torch.compile(rmsnormgt1)(x), quantiles=quantiles)\n",
    "\n",
    "    # For GB/s reports\n",
    "    gbps = lambda ms: 2 * x.nelement() * x.element_size() * 1e-9 / (ms * 1e-3)\n",
    "    return gbps(ms), gbps(max_ms), gbps(min_ms)\n",
    "\n",
    "    # For ms reports\n",
    "    # return ms, max_ms, min_ms\n",
    "\n",
    "\n",
    "benchmark.run(show_plots=False, print_data=True, save_path='./prof/')\n",
    "plt.show()"
   ]
  },
  {
   "cell_type": "markdown",
   "metadata": {},
   "source": [
    "## Torch Profiler"
   ]
  },
  {
   "cell_type": "code",
   "execution_count": null,
   "metadata": {},
   "outputs": [],
   "source": [
    "\n",
    "seq_len = 4096\n",
    "model_dim = 4096\n",
    "\n",
    "def runRMSNorm(rmsnorm_class, x : torch.Tensor = None):\n",
    "    rmsnorm_test = rmsnorm_class(dim=model_dim).cuda()\n",
    "    rmsnorm_test.forward(x.cuda())\n",
    "\n",
    "# In this example with wait=1, warmup=1, active=2, repeat=1,\n",
    "# profiler will skip the first step/iteration,\n",
    "# start warming up on the second, record\n",
    "# the third and the forth iterations,\n",
    "# after which the trace will become available\n",
    "# and on_trace_ready (when set) is called;\n",
    "# the cycle repeats starting with the next step\n",
    "wait_val = 1\n",
    "warmup_val = 1\n",
    "active_val = 2\n",
    "repeat_val = 1\n",
    "\n",
    "def trace_handler(prof):\n",
    "    \"\"\"trace_handler is called every time a new trace becomes available\"\"\"\n",
    "\n",
    "    print(prof.key_averages().table(\n",
    "        sort_by=\"self_cuda_time_total\", row_limit=-1))\n",
    "    prof.export_chrome_trace(\"prof/rmsnorm_trace_{}x{}_{}.json\".format(\n",
    "        seq_len, model_dim, prof.step_num))\n",
    "\n",
    "with torch.profiler.profile(\n",
    "    activities=[\n",
    "        # torch.profiler.ProfilerActivity.CPU,\n",
    "        torch.profiler.ProfilerActivity.CUDA,\n",
    "    ],\n",
    "\n",
    "    schedule=torch.profiler.schedule(wait=wait_val, \n",
    "                                     warmup=warmup_val, \n",
    "                                     active=active_val, \n",
    "                                     repeat=repeat_val),\n",
    "    on_trace_ready=trace_handler\n",
    "    # Outputting for tensorboard? Use this instead:\n",
    "    # on_trace_ready=torch.profiler.tensorboard_trace_handler('./prof')\n",
    "    ) as p:\n",
    "        for iter in range(10):\n",
    "            x = torch.randn(seq_len, model_dim, device='cuda', dtype=torch.float16)\n",
    "            runRMSNorm(RMSNormTriton, x)\n",
    "            p.step()\n"
   ]
  },
  {
   "cell_type": "code",
   "execution_count": null,
   "metadata": {},
   "outputs": [],
   "source": [
    "import re\n",
    "def get_cuda_time_in_ms(the_table_str: str):\n",
    "    for line in the_table_str.splitlines():\n",
    "        if \"Self CUDA time total:\" in line:\n",
    "            match = re.search(r\"(\\d+\\.\\d+)(\\w+)\", line)\n",
    "            if match:\n",
    "                time_value = float(match.group(1))\n",
    "                unit = match.group(2)\n",
    "                if unit == 'us':  # if unit is microseconds, convert to milliseconds\n",
    "                    time_value /= 1000\n",
    "                return time_value\n",
    "\n",
    "# Use the function\n",
    "cuda_time_in_ms = get_cuda_time_in_ms(p.key_averages().table(sort_by=\"self_cuda_time_total\", row_limit=1))\n",
    "print(cuda_time_in_ms)"
   ]
  },
  {
   "cell_type": "code",
   "execution_count": null,
   "metadata": {},
   "outputs": [],
   "source": [
    "import mlflow\n",
    "\n",
    "experiment_name = \"rmsnorm\"\n",
    "implementation_name = \"RMSNormTriton\"\n",
    "implementation_type = \"triton\"\n",
    "\n",
    "if(True):\n",
    "    # List of files to log\n",
    "    files_to_log = ['../optimized/rmsnorm.py', \n",
    "                    'prof/bandwidth.csv', \n",
    "                    'prof/bandwidth.png', \n",
    "                    'prof/runtime.csv', \n",
    "                    'prof/runtime.png',\n",
    "                    'prof/rmsnorm_trace_4096x4096_4.json'\n",
    "                    ]\n",
    "\n",
    "    # Start an MLflow run\n",
    "    with mlflow.start_run():\n",
    "        # Iterate over the list of files\n",
    "        for file in files_to_log:\n",
    "            # Log each file as an artifact\n",
    "            mlflow.log_artifact(file)\n",
    "        \n",
    "        # Log experiment with seq_len and model_dim, and result cuda_time_in_ms\n",
    "        mlflow.log_param(\"seq_len\", seq_len)\n",
    "        mlflow.log_param(\"model_dim\", model_dim)\n",
    "        mlflow.log_param(\"implementation\", implementation_name)\n",
    "        mlflow.log_metric(\"cuda_time_in_ms\", cuda_time_in_ms)"
   ]
  },
  {
   "cell_type": "code",
   "execution_count": null,
   "metadata": {},
   "outputs": [],
   "source": []
  }
 ],
 "metadata": {
  "kernelspec": {
   "display_name": "Python 3",
   "language": "python",
   "name": "python3"
  },
  "language_info": {
   "codemirror_mode": {
    "name": "ipython",
    "version": 3
   },
   "file_extension": ".py",
   "mimetype": "text/x-python",
   "name": "python",
   "nbconvert_exporter": "python",
   "pygments_lexer": "ipython3",
   "version": "3.10.12"
  }
 },
 "nbformat": 4,
 "nbformat_minor": 2
}
